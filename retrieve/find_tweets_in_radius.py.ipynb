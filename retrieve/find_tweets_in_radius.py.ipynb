{
 "cells": [
  {
   "cell_type": "code",
   "execution_count": 65,
   "metadata": {
    "collapsed": true
   },
   "outputs": [],
   "source": [
    "import twitter\n",
    "import credentials\n",
    "import json\n",
    "from datetime import datetime, timedelta\n",
    "import pandas as pd"
   ]
  },
  {
   "cell_type": "code",
   "execution_count": 71,
   "metadata": {
    "collapsed": true
   },
   "outputs": [],
   "source": [
    "latitude = 51.474144\t# geographical centre of search\n",
    "longitude = -0.035401\t# geographical centre of search\n",
    "max_range = 50 \t\t\t# search range in kilometres\n",
    "num_results = 500\t\t# minimum results to obtain"
   ]
  },
  {
   "cell_type": "code",
   "execution_count": 58,
   "metadata": {
    "collapsed": true
   },
   "outputs": [],
   "source": [
    "outputfilename = lambda: \"tweets_radius_{0}.json\".format(str(datetime.now()))"
   ]
  },
  {
   "cell_type": "code",
   "execution_count": 59,
   "metadata": {
    "collapsed": true
   },
   "outputs": [],
   "source": [
    "api = twitter.Api(access_token_key=credentials.access_token, access_token_secret=credentials.access_secret, consumer_key=credentials.consumer_key, consumer_secret=credentials.consumer_secret)"
   ]
  },
  {
   "cell_type": "code",
   "execution_count": 72,
   "metadata": {},
   "outputs": [],
   "source": [
    "tweets = api.GetSearch(\n",
    "    \"eindhoven\", \n",
    "    count=num_results)"
   ]
  },
  {
   "cell_type": "code",
   "execution_count": 73,
   "metadata": {},
   "outputs": [
    {
     "data": {
      "text/plain": [
       "[Status(ID=917805428335104000, ScreenName=EveningGazette, Created=Tue Oct 10 17:34:00 +0000 2017, Text='Inspirational words of Ali Brownlee are to be immortalised on the approach to the Riverside Stadium https://t.co/gBXfw20GAE'),\n",
       " Status(ID=917734771463217152, ScreenName=lammert, Created=Tue Oct 10 12:53:14 +0000 2017, Text='Update bommeldingen: \\n- Haren (loos alarm)\\n- Leeuwarden\\n- Utrecht (loos alarm)\\n- Eindhoven (loos alarm)\\n- Maastricht\\n- Den Haag'),\n",
       " Status(ID=917733099542319104, ScreenName=lammert, Created=Tue Oct 10 12:46:36 +0000 2017, Text='In korte tijd 5 bommeldingen op scholen:\\n- Haren\\n- Leeuwarden\\n- Utrecht\\n- Eindhoven\\n- Maastricht'),\n",
       " Status(ID=918052344516005888, ScreenName=EindhovenNL, Created=Wed Oct 11 09:55:10 +0000 2017, Text='a2 5631BM : ds theodor fliednerstraat #Eindhoven obj: ziekenhuizen 8610 ma mmce polikliniek rit: 98839 https://t.co/uLa8aoEz83'),\n",
       " Status(ID=918052284696731648, ScreenName=NFIASingapore, Created=Wed Oct 11 09:54:55 +0000 2017, Text=\"RT @e52en: Brainport Eindhoven main driver for industrial exports: it's a €25 billion industry already, and growing fast https://t.co/unpjy…\"),\n",
       " Status(ID=918052246667104256, ScreenName=VlbEindhoven, Created=Wed Oct 11 09:54:46 +0000 2017, Text='RT @ED_Eindhoven: Omwonenden van Vliegbasis Eindhoven kunnen zonnepanelen kopen op de vliegbasis https://t.co/7V4KbnggFp https://t.co/TpoFQ…'),\n",
       " Status(ID=918052213142016001, ScreenName=LeonHans, Created=Wed Oct 11 09:54:38 +0000 2017, Text='Mini holiday time (@ Eindhoven Airport - @ehvairport in Eindhoven, Noord-Brabant) https://t.co/mfwa5CpuWW'),\n",
       " Status(ID=918052151540289537, ScreenName=PolitieEhv, Created=Wed Oct 11 09:54:24 +0000 2017, Text='RT @BruceNiessen: Gestolen fiets aangetroffen op Neckerspoel in #Eindhoven https://t.co/gq1wxDhrLq'),\n",
       " Status(ID=918051803824054272, ScreenName=thefrontendlab, Created=Wed Oct 11 09:53:01 +0000 2017, Text='https://t.co/WZzvfj3y8J #FrontEnd Developer in Eindhoven at @isaaceindhoven #javascript #angular https://t.co/X8O6LXLNWc'),\n",
       " Status(ID=918051423157354496, ScreenName=COCEindhoven, Created=Wed Oct 11 09:51:30 +0000 2017, Text='#RT @COCNederland: RT @COCEindhoven: En in Eindhoven hangt de vlag ook! #comingoutdag2017 https://t.co/6ZCcKu9ZdH'),\n",
       " Status(ID=918051324259979264, ScreenName=DaalSanne, Created=Wed Oct 11 09:51:06 +0000 2017, Text='Silent disco! 🤣 @WvdO #wvdo #eindhoven #KeynoteSpeaker #rabobank #regeerakkoord https://t.co/BbUVYqNDOz'),\n",
       " Status(ID=918051319079989250, ScreenName=RCJV, Created=Wed Oct 11 09:51:05 +0000 2017, Text='Bijzonder lichtkunstwerk brengt sfeer en rust op station Eindhoven. @ProRail @NS_Stations @gem_Eindhoven @heijmansnl https://t.co/qocQyU2fbP'),\n",
       " Status(ID=918051227895726080, ScreenName=BasLuiting, Created=Wed Oct 11 09:50:43 +0000 2017, Text='RT @navelpluis: Dutch Design Week in #Eindhoven op @NPO2 #Kunstuur staat hele maand oktober in teken van design: @DDF_Tweets \\nhttps://t.co/…'),\n",
       " Status(ID=918051092327550976, ScreenName=selambenhippi, Created=Wed Oct 11 09:50:11 +0000 2017, Text='@belkissdurmus Eindhoven ve minik alışveriş hilelerin dkfkdkdk'),\n",
       " Status(ID=918050957895917568, ScreenName=roydanstniet, Created=Wed Oct 11 09:49:39 +0000 2017, Text='Vrienden uit Eindhoven, Amsterdam, Nijmegen, Den Haag, Middelburg Breda en omstreken; Kom met ons falafel eten na... https://t.co/DYrkXZocQm'),\n",
       " Status(ID=918050702009630720, ScreenName=jobsinhotelsnl, Created=Wed Oct 11 09:48:38 +0000 2017, Text='Receptionist Parttime https://t.co/irxbFzwvZS #nhhoteljobs https://t.co/6m0F5k5JT6'),\n",
       " Status(ID=918050689833512960, ScreenName=RPOplus, Created=Wed Oct 11 09:48:35 +0000 2017, Text='Receptionist Parttime https://t.co/xXNDKX4nSN https://t.co/VfWYxux5Kf'),\n",
       " Status(ID=918050432630566913, ScreenName=p2000_eindhoven, Created=Wed Oct 11 09:47:34 +0000 2017, Text='A2 5631BM 1 : Ds Theodor Fliednerstraat Eindhoven Obj: ziekenhuizen 8610 Ma MMCE Polikliniek Rit: 98839 - Ambulance 22-102 #P2000'),\n",
       " Status(ID=918050408685326336, ScreenName=roethie, Created=Wed Oct 11 09:47:28 +0000 2017, Text='Weekje. Van Barneveld en Eindhoven naar Beek en Dronten en via huis en Zierikzee naar Ermelo... #werk 😉'),\n",
       " Status(ID=918050290191843328, ScreenName=Ben_Rutten, Created=Wed Oct 11 09:47:00 +0000 2017, Text='RT @Jellekrekels: De tussenstand liegt er niet om. Punten voor energie-efficiëntie:\\n1. Eindhoven 267\\n2. Bochum 80\\n#bwsc17 @SolarEHV @TUeind…'),\n",
       " Status(ID=918050158461575168, ScreenName=EricDzjavadjan, Created=Wed Oct 11 09:46:28 +0000 2017, Text='RT @Nor_vell: #BWSC17 #Tesla @SolarEHV\\nTesla Model S has an efficiency of 29.4 p-km/kWh. \\nEindhoven manages 270 p-km/kWh -- over nine times…'),\n",
       " Status(ID=918049816902553600, ScreenName=SmmexEvent, Created=Wed Oct 11 09:45:07 +0000 2017, Text='.@psveindhoven to be the first professional club to use a portable ultrasound device to diagnose suspected injuries… https://t.co/PrWARoVgjY'),\n",
       " Status(ID=918049678645530625, ScreenName=TUeindhoven, Created=Wed Oct 11 09:44:34 +0000 2017, Text='RT @Nor_vell: #BWSC17 #Tesla @SolarEHV\\nTesla Model S has an efficiency of 29.4 p-km/kWh. \\nEindhoven manages 270 p-km/kWh -- over nine times…'),\n",
       " Status(ID=918049572261416961, ScreenName=EindhovenNL, Created=Wed Oct 11 09:44:09 +0000 2017, Text='a2 5624DH : herodotusplein #Eindhoven obj: rit: 98833 https://t.co/FnoLZZhlHo'),\n",
       " Status(ID=918048955874922497, ScreenName=Tevsa, Created=Wed Oct 11 09:41:42 +0000 2017, Text='RT @RRoedman: #streetart #graffiti #mural Anonymous, Gart Smits in #Eindhoven #Berenkuil, Step in the Arena 2017, 2 pics at https://t.co/VL…'),\n",
       " Status(ID=918048658922274817, ScreenName=juully020, Created=Wed Oct 11 09:40:31 +0000 2017, Text='Vandaag aanwezig bij de @WvdO in eindhoven. Ondernemers enthousiast maken om deel te nemen! https://t.co/qyEIXq1VBh'),\n",
       " Status(ID=918048577217286144, ScreenName=RRoedman, Created=Wed Oct 11 09:40:11 +0000 2017, Text='#streetart #graffiti #mural Anonymous, Gart Smits in #Eindhoven #Berenkuil, Step in the Arena 2017, 2 pics at… https://t.co/kshBlJmMGH'),\n",
       " Status(ID=918048542559744000, ScreenName=EstadioDiario, Created=Wed Oct 11 09:40:03 +0000 2017, Text='El mexicano del  momento  podria  jugar en la Premier League https://t.co/wA2OuauRoh'),\n",
       " Status(ID=918048428269211648, ScreenName=evertveenendaal, Created=Wed Oct 11 09:39:36 +0000 2017, Text='RT @ErnestMaas: Raad neemt plan van actievoerders over: Eindhoven fossielvrij over vijf jaar https://t.co/l3BBIQN2Cr'),\n",
       " Status(ID=918048335289823232, ScreenName=LinksAanhouden, Created=Wed Oct 11 09:39:14 +0000 2017, Text='RT @ErnestMaas: Raad neemt plan van actievoerders over: Eindhoven fossielvrij over vijf jaar https://t.co/l3BBIQN2Cr'),\n",
       " Status(ID=918048305170518016, ScreenName=VacatureWerk, Created=Wed Oct 11 09:39:07 +0000 2017, Text='#nieuws #vacature Kassamedewerker, Eindhoven\\nhttps://t.co/2902hHgAYB'),\n",
       " Status(ID=918048155819741184, ScreenName=Treedotpack, Created=Wed Oct 11 09:38:31 +0000 2017, Text='Dreamteam @bozik_art and @gooze_art! #treepack #murals #eindhoven #urbanart https://t.co/EoKm93bexD https://t.co/dv3zwB8M7N'),\n",
       " Status(ID=918048148291031041, ScreenName=Treedotpack, Created=Wed Oct 11 09:38:29 +0000 2017, Text='To celibrate our new tunnel project in Eindhoven City Bozik Art and @gooze_art made this stunning mural with the m…… https://t.co/fetIL2ZhV8'),\n",
       " Status(ID=918048079345078272, ScreenName=MrFelixOrtega, Created=Wed Oct 11 09:38:13 +0000 2017, Text=\"RT @WarHistoryOL: George Luz and 'Babe' Heffron Easy Company 506th PIR 101st Airborne enter Eindhoven on September 18th 1944. https://t.co/…\"),\n",
       " Status(ID=918048070872567808, ScreenName=vacature_jobs, Created=Wed Oct 11 09:38:11 +0000 2017, Text='Heb je deze #vacature al gezien: Kassamedewerker, Eindhoven\\nhttps://t.co/7mdxsPCPkd\\n #0-8'),\n",
       " Status(ID=918048026433814528, ScreenName=navelpluis, Created=Wed Oct 11 09:38:00 +0000 2017, Text='Dutch Design Week in #Eindhoven op @NPO2 #Kunstuur staat hele maand oktober in teken van design: @DDF_Tweets \\nhttps://t.co/wykLW5Ljv9'),\n",
       " Status(ID=918047807713529856, ScreenName=BiancaKaathoven, Created=Wed Oct 11 09:37:08 +0000 2017, Text='RT @COCEindhoven: En in Eindhoven hangt de vlag ook! #comingoutdag2017 https://t.co/6ZCcKu9ZdH'),\n",
       " Status(ID=918047806887165952, ScreenName=VacatureBaan, Created=Wed Oct 11 09:37:08 +0000 2017, Text='Heb je deze #vacature al gezien: Kassamedewerker, Eindhoven\\nhttps://t.co/Wqt1wUlwrC'),\n",
       " Status(ID=918047738645925888, ScreenName=M_Steinbuch, Created=Wed Oct 11 09:36:52 +0000 2017, Text='RT @ED_Eindhoven: Jan Mengelers van TU Eindhoven: Studenten teams zeer waardevol https://t.co/dQT1JWW0df https://t.co/2qsAUwJh2V'),\n",
       " Status(ID=918047553211588608, ScreenName=Mikevanbreemen, Created=Wed Oct 11 09:36:07 +0000 2017, Text='RT @laram: En hebben jullie de Solar challenge app al ontdekt? https://t.co/mUlzTuYtT7 #solarchallenge #solar #Delft #Eindhoven #twente'),\n",
       " Status(ID=918047406553526274, ScreenName=WvdO, Created=Wed Oct 11 09:35:32 +0000 2017, Text='RT @larssorensen: De Week Van @De_Ondernemer in Eindhoven is AAN! #wvdo https://t.co/eNsTi0OCkR'),\n",
       " Status(ID=918047398424928257, ScreenName=vacaturewijzer, Created=Wed Oct 11 09:35:30 +0000 2017, Text='Receptionist(e) https://t.co/7ISKRopyqJ G4S\\n Location : Eindhoven NB NL\\nJe hebt een enorme drive om te exceller... https://t.co/QC5UGEYnlU'),\n",
       " Status(ID=918047308469727232, ScreenName=belgiejobs, Created=Wed Oct 11 09:35:09 +0000 2017, Text='#nieuwstwitter #vacature #werk Kassamedewerker, Eindhoven\\nhttps://t.co/eObwr7gCeY'),\n",
       " Status(ID=918047272545513472, ScreenName=Samenwerkende, Created=Wed Oct 11 09:35:00 +0000 2017, Text='Vandaag is het feest in Eindhoven! Onze collega tandarts Ton Verhulst is 10 jaar in dienst.… https://t.co/4d2shgS3bH'),\n",
       " Status(ID=918047251473293312, ScreenName=Angieba100, Created=Wed Oct 11 09:34:55 +0000 2017, Text='RT @EveningGazette: Inspirational words of Ali Brownlee are to be immortalised on the approach to the Riverside Stadium https://t.co/gBXfw2…'),\n",
       " Status(ID=918047075773960198, ScreenName=MKBHelmond, Created=Wed Oct 11 09:34:14 +0000 2017, Text='RT @LucieCroonen: Dagje netwerken en inspiratie opdoen bij #wvdo in Eindhoven. Mooie start met leuke contacten en interview met Willem van…'),\n",
       " Status(ID=918046911915024384, ScreenName=DaalSanne, Created=Wed Oct 11 09:33:34 +0000 2017, Text='🎀🙋🏼 #Wvdo #eindhoven #strijp-s #klokgebouw #netwerkdag https://t.co/C42bJ61dXc'),\n",
       " Status(ID=918046799042052097, ScreenName=Pendrechttweet, Created=Wed Oct 11 09:33:08 +0000 2017, Text='RT @Beverwaard_Nu: BAM was opdrachtgever voor het bouwen van P+R Beverwaard wordt deze ook onderzocht op fouten??? https://t.co/4ejtroNhrO'),\n",
       " Status(ID=918046733434802176, ScreenName=p2000_eindhoven, Created=Wed Oct 11 09:32:52 +0000 2017, Text='A2 5624DH 99 : Herodotusplein Eindhoven Obj: Rit: 98833 - Ambulance 22-107 #P2000'),\n",
       " Status(ID=918046547891359744, ScreenName=ICTscienceEU, Created=Wed Oct 11 09:32:08 +0000 2017, Text='RT @ArsElectronica: Outstanding best-practice examples and insightful speeches lead off the STARTS Talks series in Berlin and Eindhoven. ht…'),\n",
       " Status(ID=918046505881296896, ScreenName=navelpluis, Created=Wed Oct 11 09:31:58 +0000 2017, Text='RT @laram: En hebben jullie de Solar challenge app al ontdekt? https://t.co/mUlzTuYtT7 #solarchallenge #solar #Delft #Eindhoven #twente'),\n",
       " Status(ID=918046337853161472, ScreenName=interimportal, Created=Wed Oct 11 09:31:18 +0000 2017, Text='HF_Opdrachten:\"#Opdracht voor BCS Consultant in Eindhoven. #ZZP #Freelance Log in en lees meer:  https://t.co/osLaIvDi5J\"'),\n",
       " Status(ID=918046296170262528, ScreenName=VacatureWerk, Created=Wed Oct 11 09:31:08 +0000 2017, Text='#nieuws #vacature #werkgezocht Kok, Eindhoven\\nhttps://t.co/kNyAywLAZ5'),\n",
       " Status(ID=918046239450652672, ScreenName=MMMHorsten, Created=Wed Oct 11 09:30:54 +0000 2017, Text=\"RT @getbriter: Vandaag spelen we een 'thuiswedstrijd' en toveren we een glimlach in #eindhoven met @Like_To_Share #tovereenglimlach #liketo…\"),\n",
       " Status(ID=918046195033034752, ScreenName=maxsteenberghe, Created=Wed Oct 11 09:30:44 +0000 2017, Text='Minister hoopt nog steeds dat OM miljoenen kan cashen inzake maskerbij. Rechtbank stopte plukze-zaak https://t.co/Az7397ZjBy'),\n",
       " Status(ID=918046055350046725, ScreenName=vacature_jobs, Created=Wed Oct 11 09:30:10 +0000 2017, Text='Heb je deze #vacature al gezien: Kok, Eindhoven\\nhttps://t.co/9kuFja0Nxg\\n #0-8'),\n",
       " Status(ID=918045827293175808, ScreenName=CitybrandingDH, Created=Wed Oct 11 09:29:16 +0000 2017, Text='RT @nicolebkkr: Bedankt @navelpluis voor je talk bij #OnlineTuesday! Strategie is kiezen, Eindhoven topvoorbeeld échte citymarketing! https…'),\n",
       " Status(ID=918045795240247297, ScreenName=VacatureBaan, Created=Wed Oct 11 09:29:08 +0000 2017, Text='#nieuwstwitter #vacature #dts: Kok, Eindhoven\\nhttps://t.co/UPzqFqJO2x'),\n",
       " Status(ID=918045700121907200, ScreenName=larssorensen, Created=Wed Oct 11 09:28:46 +0000 2017, Text='De Week Van @De_Ondernemer in Eindhoven is AAN! #wvdo https://t.co/eNsTi0OCkR'),\n",
       " Status(ID=918045306171920384, ScreenName=HF_Opdrachten, Created=Wed Oct 11 09:27:12 +0000 2017, Text='#Opdracht voor BCS Consultant in Eindhoven. #ZZP #Freelance Log in en lees meer:  https://t.co/UMYDo5Q2OE'),\n",
       " Status(ID=918045293748408321, ScreenName=belgiejobs, Created=Wed Oct 11 09:27:09 +0000 2017, Text='#nieuws #vacature #dts Kok, Eindhoven\\nhttps://t.co/83yuSC0cKX'),\n",
       " Status(ID=918045177754869760, ScreenName=MariekevdWaal, Created=Wed Oct 11 09:26:41 +0000 2017, Text='RT @ruudvanderkind: #expeditiebegonia uitermate boeiende presentatie over empathische woonomgeving door @Masi Mohammadi, hoogleraar TU Eind…'),\n",
       " Status(ID=918044981553782784, ScreenName=laram, Created=Wed Oct 11 09:25:54 +0000 2017, Text='En hebben jullie de Solar challenge app al ontdekt? https://t.co/mUlzTuYtT7 #solarchallenge #solar #Delft #Eindhoven #twente'),\n",
       " Status(ID=918044904852459520, ScreenName=HumanitasZuid, Created=Wed Oct 11 09:25:36 +0000 2017, Text='Wereldmeisjesdag, ook bij Humanitas Match Eindhoven https://t.co/RzIi8K7bh2'),\n",
       " Status(ID=918044787630100480, ScreenName=VacatureWerk, Created=Wed Oct 11 09:25:08 +0000 2017, Text='#nieuws #zoektwerk #vacature Horeca medewerker, Eindhoven\\nhttps://t.co/uCXmau1UzW'),\n",
       " Status(ID=918044775705608192, ScreenName=PostNLPride, Created=Wed Oct 11 09:25:05 +0000 2017, Text='Ook  bij @PostNL in #Eindhoven zijn de #ComingOutDay posters zichtbaar #COD17 #WeesWieJeBent https://t.co/0pgiEiWRda'),\n",
       " Status(ID=918044583249952768, ScreenName=_Profitz, Created=Wed Oct 11 09:24:19 +0000 2017, Text='Gezocht voor een Duits gezin met 4 kinderen (leeftijd 7 t/m 15 jaar) een vloeiend Engels sprekende Nanny in Eindhoven. In bezit van eigen a…'),\n",
       " Status(ID=918044567206809600, ScreenName=EindhovenNL, Created=Wed Oct 11 09:24:15 +0000 2017, Text=\"a1 dia:  5641AH : 't hofke eindhoven obj: buurthuis het oude raadhuis rit: 98828 https://t.co/xQpgBm9shY\"),\n",
       " Status(ID=918044561817120768, ScreenName=EindhovenNL, Created=Wed Oct 11 09:24:14 +0000 2017, Text='a2 dia:  5658BC : zandvis eindhoven obj: rit: 98830 https://t.co/gXeR5j84T7'),\n",
       " Status(ID=918044544654077952, ScreenName=vacature_jobs, Created=Wed Oct 11 09:24:10 +0000 2017, Text='#zoektwerk #vacature Horeca medewerker, Eindhoven\\nhttps://t.co/0HkMn4N5dH\\n #0-8'),\n",
       " Status(ID=918044301975732225, ScreenName=vacatureshotel, Created=Wed Oct 11 09:23:12 +0000 2017, Text='Nachtreceptionist Eindhoven PT - Nacht Service BV: Eindhoven, 673, Nacht Service Wij zijn opzoek… https://t.co/llNmXH7Izn #vacatures #hotel'),\n",
       " Status(ID=918044283571187713, ScreenName=VacatureBaan, Created=Wed Oct 11 09:23:08 +0000 2017, Text='#nieuws #zoektwerk #vacature Horeca medewerker, Eindhoven\\nhttps://t.co/E1I4CPIkit'),\n",
       " Status(ID=918044142013485061, ScreenName=morrisjim, Created=Wed Oct 11 09:22:34 +0000 2017, Text='De hondenuitlaatservice bespioneren vanuit Eindhoven https://t.co/HyA3P22BiX'),\n",
       " Status(ID=918043783375327232, ScreenName=belgiejobs, Created=Wed Oct 11 09:21:09 +0000 2017, Text='#durftesolliciteren #dts #vacature Horeca medewerker, Eindhoven\\nhttps://t.co/vYaldFr8zv'),\n",
       " Status(ID=918043533591896064, ScreenName=ruudvanderkind, Created=Wed Oct 11 09:20:09 +0000 2017, Text='#expeditiebegonia uitermate boeiende presentatie over empathische woonomgeving door @Masi Mohammadi, hoogleraar TU… https://t.co/qKgonKaMDT'),\n",
       " Status(ID=918043473911205889, ScreenName=PluginEU, Created=Wed Oct 11 09:19:55 +0000 2017, Text='Good morning, @strayfromdapath are in Eindhoven today! https://t.co/BCBfthlfYs'),\n",
       " Status(ID=918043034222075904, ScreenName=IchEintovenaar, Created=Wed Oct 11 09:18:10 +0000 2017, Text=\"Jezus wat maakten deze NS-medewerkers een lawaai gisteren op station #Eindhoven\\nMaar ja zy staan op 'eigen' terrein… https://t.co/uOnDuRQGhR\"),\n",
       " Status(ID=918042993575149569, ScreenName=lampuniek2, Created=Wed Oct 11 09:18:00 +0000 2017, Text='#Holtkötter verlichting, bekijk de collectie in onze showrooms in #Eindhoven of #DenBosch https://t.co/JHwZ4NprVv https://t.co/0oDrwZNWYt')]"
      ]
     },
     "execution_count": 73,
     "metadata": {},
     "output_type": "execute_result"
    }
   ],
   "source": [
    "tweets"
   ]
  },
  {
   "cell_type": "code",
   "execution_count": null,
   "metadata": {
    "collapsed": true
   },
   "outputs": [],
   "source": []
  }
 ],
 "metadata": {
  "kernelspec": {
   "display_name": "Python 3",
   "language": "python",
   "name": "python3"
  },
  "language_info": {
   "codemirror_mode": {
    "name": "ipython",
    "version": 3
   },
   "file_extension": ".py",
   "mimetype": "text/x-python",
   "name": "python",
   "nbconvert_exporter": "python",
   "pygments_lexer": "ipython3",
   "version": "3.6.2"
  }
 },
 "nbformat": 4,
 "nbformat_minor": 2
}
