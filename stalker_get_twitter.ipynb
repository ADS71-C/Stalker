{
 "cells": [
  {
   "cell_type": "code",
   "execution_count": 9,
   "metadata": {
    "collapsed": true
   },
   "outputs": [],
   "source": [
    "import pandas as pd\n",
    "import numpy as np\n",
    "import json\n",
    "import twitter"
   ]
  },
  {
   "cell_type": "code",
   "execution_count": 80,
   "metadata": {},
   "outputs": [
    {
     "data": {
      "text/html": [
       "<div>\n",
       "<style>\n",
       "    .dataframe thead tr:only-child th {\n",
       "        text-align: right;\n",
       "    }\n",
       "\n",
       "    .dataframe thead th {\n",
       "        text-align: left;\n",
       "    }\n",
       "\n",
       "    .dataframe tbody tr th {\n",
       "        vertical-align: top;\n",
       "    }\n",
       "</style>\n",
       "<table border=\"1\" class=\"dataframe\">\n",
       "  <thead>\n",
       "    <tr style=\"text-align: right;\">\n",
       "      <th></th>\n",
       "      <th>usernames</th>\n",
       "    </tr>\n",
       "  </thead>\n",
       "  <tbody>\n",
       "    <tr>\n",
       "      <th>0</th>\n",
       "      <td>moot</td>\n",
       "    </tr>\n",
       "    <tr>\n",
       "      <th>1</th>\n",
       "      <td>fhict</td>\n",
       "    </tr>\n",
       "  </tbody>\n",
       "</table>\n",
       "</div>"
      ],
      "text/plain": [
       "  usernames\n",
       "0      moot\n",
       "1     fhict"
      ]
     },
     "execution_count": 80,
     "metadata": {},
     "output_type": "execute_result"
    }
   ],
   "source": [
    "df = pd.DataFrame()\n",
    "\n",
    "df['usernames'] = np.array(\n",
    "['moot', 'fhict']\n",
    ")\n",
    "\n",
    "df"
   ]
  },
  {
   "cell_type": "code",
   "execution_count": 81,
   "metadata": {},
   "outputs": [
    {
     "name": "stdout",
     "output_type": "stream",
     "text": [
      "{\"created_at\": \"Tue Jan 29 21:11:57 +0000 2013\", \"description\": \"#2 derp\", \"favourites_count\": 683, \"followers_count\": 75, \"friends_count\": 340, \"id\": 1132143044, \"lang\": \"en\", \"name\": \"Requinard\", \"profile_background_color\": \"000000\", \"profile_background_image_url\": \"http://abs.twimg.com/images/themes/theme1/bg.png\", \"profile_image_url\": \"http://pbs.twimg.com/profile_images/764762547560017920/tx1yNHtQ_normal.jpg\", \"profile_link_color\": \"FAB81E\", \"profile_sidebar_fill_color\": \"000000\", \"profile_text_color\": \"000000\", \"screen_name\": \"requinard\", \"status\": {\"created_at\": \"Mon Oct 02 07:44:21 +0000 2017\", \"favorited\": true, \"id\": 914757935108169731, \"id_str\": \"914757935108169731\", \"lang\": \"en\", \"media\": [{\"display_url\": \"pic.twitter.com/jfqIjTcU3M\", \"expanded_url\": \"https://twitter.com/DontHugCacti/status/914263597122863105/photo/1\", \"id\": 914263587954106368, \"media_url\": \"http://pbs.twimg.com/media/DLAd46cUIAAoaSV.jpg\", \"media_url_https\": \"https://pbs.twimg.com/media/DLAd46cUIAAoaSV.jpg\", \"sizes\": {\"large\": {\"h\": 575, \"resize\": \"fit\", \"w\": 813}, \"medium\": {\"h\": 575, \"resize\": \"fit\", \"w\": 813}, \"small\": {\"h\": 481, \"resize\": \"fit\", \"w\": 680}, \"thumb\": {\"h\": 150, \"resize\": \"crop\", \"w\": 150}}, \"type\": \"photo\", \"url\": \"https://t.co/jfqIjTcU3M\"}], \"retweet_count\": 619, \"retweeted\": true, \"retweeted_status\": {\"created_at\": \"Sat Sep 30 23:00:02 +0000 2017\", \"favorite_count\": 3016, \"favorited\": true, \"id\": 914263597122863105, \"id_str\": \"914263597122863105\", \"lang\": \"en\", \"media\": [{\"display_url\": \"pic.twitter.com/jfqIjTcU3M\", \"expanded_url\": \"https://twitter.com/DontHugCacti/status/914263597122863105/photo/1\", \"id\": 914263587954106368, \"media_url\": \"http://pbs.twimg.com/media/DLAd46cUIAAoaSV.jpg\", \"media_url_https\": \"https://pbs.twimg.com/media/DLAd46cUIAAoaSV.jpg\", \"sizes\": {\"large\": {\"h\": 575, \"resize\": \"fit\", \"w\": 813}, \"medium\": {\"h\": 575, \"resize\": \"fit\", \"w\": 813}, \"small\": {\"h\": 481, \"resize\": \"fit\", \"w\": 680}, \"thumb\": {\"h\": 150, \"resize\": \"crop\", \"w\": 150}}, \"type\": \"photo\", \"url\": \"https://t.co/jfqIjTcU3M\"}], \"retweet_count\": 619, \"retweeted\": true, \"source\": \"<a href=\\\"http://twitter.com/download/iphone\\\" rel=\\\"nofollow\\\">Twitter for iPhone</a>\", \"text\": \"Vin Collie is only as real as you want him to be. #vincollie #fursuit #donthugcacti https://t.co/jfqIjTcU3M\"}, \"source\": \"<a href=\\\"http://twitter.com\\\" rel=\\\"nofollow\\\">Twitter Web Client</a>\", \"text\": \"RT @DontHugCacti: Vin Collie is only as real as you want him to be. #vincollie #fursuit #donthugcacti https://t.co/jfqIjTcU3M\"}, \"statuses_count\": 232, \"time_zone\": \"Amsterdam\", \"utc_offset\": 7200}\n"
     ]
    }
   ],
   "source": [
    "api = twitter.Api(consumer_key='N4rGA4cUCvBwXLwo5liXA9aTJ',\n",
    "                 consumer_secret='U991vebYUxR7qORPIWMnqO3Whu3vpOq9YXDdUyeMQxMvAcRtv8',\n",
    "                 access_token_key='1132143044-aevkD8IXmvOMyHkr961u3STgZPdbHDNzj36ysbV',\n",
    "                 access_token_secret='SdICeBNfG9RnqxrCWJ3YtwbBze2nBDeTXopxdUUaNnXT0')\n",
    "\n",
    "print(api.VerifyCredentials())"
   ]
  },
  {
   "cell_type": "markdown",
   "metadata": {},
   "source": [
    "### Docs\n",
    "\n",
    "[api call](https://developer.twitter.com/en/docs/accounts-and-users/follow-search-get-users/api-reference/get-users-lookup)"
   ]
  },
  {
   "cell_type": "code",
   "execution_count": 118,
   "metadata": {},
   "outputs": [],
   "source": [
    "def check_user_ids(ids):\n",
    "    df['location'], df['id'], df['found'] += zip(*[(x.location, x.id, False) for x in api.UsersLookup(user_id=ids, include_entities=True)])\n",
    "    "
   ]
  },
  {
   "cell_type": "code",
   "execution_count": 120,
   "metadata": {},
   "outputs": [
    {
     "data": {
      "text/html": [
       "<div>\n",
       "<style>\n",
       "    .dataframe thead tr:only-child th {\n",
       "        text-align: right;\n",
       "    }\n",
       "\n",
       "    .dataframe thead th {\n",
       "        text-align: left;\n",
       "    }\n",
       "\n",
       "    .dataframe tbody tr th {\n",
       "        vertical-align: top;\n",
       "    }\n",
       "</style>\n",
       "<table border=\"1\" class=\"dataframe\">\n",
       "  <thead>\n",
       "    <tr style=\"text-align: right;\">\n",
       "      <th></th>\n",
       "      <th>usernames</th>\n",
       "      <th>location</th>\n",
       "      <th>id</th>\n",
       "      <th>found</th>\n",
       "    </tr>\n",
       "  </thead>\n",
       "  <tbody>\n",
       "    <tr>\n",
       "      <th>0</th>\n",
       "      <td>moot</td>\n",
       "      <td>Bay Area, CA</td>\n",
       "      <td>36994785</td>\n",
       "      <td>False</td>\n",
       "    </tr>\n",
       "    <tr>\n",
       "      <th>1</th>\n",
       "      <td>fhict</td>\n",
       "      <td>Eindhoven, Nederland</td>\n",
       "      <td>1204611552</td>\n",
       "      <td>False</td>\n",
       "    </tr>\n",
       "  </tbody>\n",
       "</table>\n",
       "</div>"
      ],
      "text/plain": [
       "  usernames              location          id  found\n",
       "0      moot          Bay Area, CA    36994785  False\n",
       "1     fhict  Eindhoven, Nederland  1204611552  False"
      ]
     },
     "execution_count": 120,
     "metadata": {},
     "output_type": "execute_result"
    }
   ],
   "source": [
    "check_user_ids(df.apply(lambda x: x.id, axis=1).tolist())\n",
    "df"
   ]
  },
  {
   "cell_type": "code",
   "execution_count": null,
   "metadata": {
    "collapsed": true
   },
   "outputs": [],
   "source": []
  },
  {
   "cell_type": "code",
   "execution_count": null,
   "metadata": {
    "collapsed": true
   },
   "outputs": [],
   "source": []
  }
 ],
 "metadata": {
  "kernelspec": {
   "display_name": "Python 3",
   "language": "python",
   "name": "python3"
  },
  "language_info": {
   "codemirror_mode": {
    "name": "ipython",
    "version": 3
   },
   "file_extension": ".py",
   "mimetype": "text/x-python",
   "name": "python",
   "nbconvert_exporter": "python",
   "pygments_lexer": "ipython3",
   "version": "3.6.2"
  }
 },
 "nbformat": 4,
 "nbformat_minor": 2
}
