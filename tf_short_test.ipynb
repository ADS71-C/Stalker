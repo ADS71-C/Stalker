{
 "cells": [
  {
   "cell_type": "code",
   "execution_count": 1,
   "metadata": {
    "collapsed": true
   },
   "outputs": [],
   "source": [
    "import pandas as pd\n",
    "import numpy as np\n",
    "import tensorflow as tf\n",
    "import matplotlib\n",
    "\n",
    "%matplotlib inline"
   ]
  },
  {
   "cell_type": "code",
   "execution_count": 2,
   "metadata": {},
   "outputs": [
    {
     "data": {
      "text/html": [
       "<div>\n",
       "<style>\n",
       "    .dataframe thead tr:only-child th {\n",
       "        text-align: right;\n",
       "    }\n",
       "\n",
       "    .dataframe thead th {\n",
       "        text-align: left;\n",
       "    }\n",
       "\n",
       "    .dataframe tbody tr th {\n",
       "        vertical-align: top;\n",
       "    }\n",
       "</style>\n",
       "<table border=\"1\" class=\"dataframe\">\n",
       "  <thead>\n",
       "    <tr style=\"text-align: right;\">\n",
       "      <th></th>\n",
       "      <th>x</th>\n",
       "      <th>y</th>\n",
       "    </tr>\n",
       "  </thead>\n",
       "  <tbody>\n",
       "    <tr>\n",
       "      <th>0</th>\n",
       "      <td>1</td>\n",
       "      <td>2</td>\n",
       "    </tr>\n",
       "    <tr>\n",
       "      <th>1</th>\n",
       "      <td>3</td>\n",
       "      <td>4</td>\n",
       "    </tr>\n",
       "    <tr>\n",
       "      <th>2</th>\n",
       "      <td>5</td>\n",
       "      <td>6</td>\n",
       "    </tr>\n",
       "  </tbody>\n",
       "</table>\n",
       "</div>"
      ],
      "text/plain": [
       "   x  y\n",
       "0  1  2\n",
       "1  3  4\n",
       "2  5  6"
      ]
     },
     "execution_count": 2,
     "metadata": {},
     "output_type": "execute_result"
    }
   ],
   "source": [
    "df = pd.DataFrame(\n",
    "data=np.array([[1, 2], [3, 4], [5, 6]]),\n",
    "columns=[\"x\", \"y\"],\n",
    ")\n",
    "\n",
    "df_ev = pd.DataFrame(\n",
    "data=np.array([[7, 8], [9, 10], [11, 12]]),\n",
    "    columns=[\"x\", \"y\"]\n",
    ")\n",
    "\n",
    "df"
   ]
  },
  {
   "cell_type": "code",
   "execution_count": 3,
   "metadata": {},
   "outputs": [
    {
     "name": "stdout",
     "output_type": "stream",
     "text": [
      "INFO:tensorflow:Using default config.\n",
      "WARNING:tensorflow:Using temporary folder as model directory: /tmp/tmp52ub4up_\n",
      "INFO:tensorflow:Using config: {'_model_dir': '/tmp/tmp52ub4up_', '_tf_random_seed': 1, '_save_summary_steps': 100, '_save_checkpoints_secs': 600, '_save_checkpoints_steps': None, '_session_config': None, '_keep_checkpoint_max': 5, '_keep_checkpoint_every_n_hours': 10000, '_log_step_count_steps': 100}\n"
     ]
    }
   ],
   "source": [
    "feature_columns = [tf.feature_column.numeric_column(\"x\")]\n",
    "\n",
    "estimator = tf.estimator.LinearRegressor(feature_columns=feature_columns)"
   ]
  },
  {
   "cell_type": "code",
   "execution_count": 4,
   "metadata": {},
   "outputs": [
    {
     "name": "stdout",
     "output_type": "stream",
     "text": [
      "INFO:tensorflow:Create CheckpointSaverHook.\n",
      "INFO:tensorflow:Saving checkpoints for 1 into /tmp/tmp52ub4up_/model.ckpt.\n",
      "INFO:tensorflow:loss = 2168.0, step = 1\n",
      "INFO:tensorflow:global_step/sec: 589.68\n",
      "INFO:tensorflow:loss = 0.000801637, step = 101 (0.171 sec)\n",
      "INFO:tensorflow:global_step/sec: 667.388\n",
      "INFO:tensorflow:loss = 0.000349203, step = 201 (0.150 sec)\n",
      "INFO:tensorflow:global_step/sec: 688.815\n",
      "INFO:tensorflow:loss = 0.000126325, step = 301 (0.144 sec)\n",
      "INFO:tensorflow:global_step/sec: 699.32\n",
      "INFO:tensorflow:loss = 4.34047e-05, step = 401 (0.145 sec)\n",
      "INFO:tensorflow:global_step/sec: 688.817\n",
      "INFO:tensorflow:loss = 1.6134e-05, step = 501 (0.145 sec)\n",
      "INFO:tensorflow:global_step/sec: 684.659\n",
      "INFO:tensorflow:loss = 6.71931e-06, step = 601 (0.146 sec)\n",
      "INFO:tensorflow:global_step/sec: 691.254\n",
      "INFO:tensorflow:loss = 2.51009e-06, step = 701 (0.143 sec)\n",
      "INFO:tensorflow:global_step/sec: 717.047\n",
      "INFO:tensorflow:loss = 9.60012e-07, step = 801 (0.141 sec)\n",
      "INFO:tensorflow:global_step/sec: 702.963\n",
      "INFO:tensorflow:loss = 3.85191e-07, step = 901 (0.141 sec)\n",
      "INFO:tensorflow:Saving checkpoints for 1000 into /tmp/tmp52ub4up_/model.ckpt.\n",
      "INFO:tensorflow:Loss for final step: 1.29457e-07.\n"
     ]
    },
    {
     "data": {
      "text/plain": [
       "<tensorflow.python.estimator.canned.linear.LinearRegressor at 0x7f631e425780>"
      ]
     },
     "execution_count": 4,
     "metadata": {},
     "output_type": "execute_result"
    }
   ],
   "source": [
    " # Define the training inputs\n",
    "train_input_fn = tf.estimator.inputs.numpy_input_fn(\n",
    "      x={\"x\": df['x']},\n",
    "      y=df['y'],\n",
    "      num_epochs=None,\n",
    "      shuffle=True)\n",
    "estimator.train(input_fn=train_input_fn, steps=1000)"
   ]
  },
  {
   "cell_type": "code",
   "execution_count": 5,
   "metadata": {
    "scrolled": false
   },
   "outputs": [
    {
     "name": "stdout",
     "output_type": "stream",
     "text": [
      "INFO:tensorflow:Starting evaluation at 2017-09-28-08:03:54\n",
      "INFO:tensorflow:Restoring parameters from /tmp/tmp52ub4up_/model.ckpt-1000\n",
      "INFO:tensorflow:Finished evaluation at 2017-09-28-08:03:54\n",
      "INFO:tensorflow:Saving dict for global step 1000: average_loss = 9.42418e-09, global_step = 1000, loss = 2.82726e-08\n"
     ]
    },
    {
     "data": {
      "text/plain": [
       "{'average_loss': 9.4241841e-09, 'global_step': 1000, 'loss': 2.8272552e-08}"
      ]
     },
     "execution_count": 5,
     "metadata": {},
     "output_type": "execute_result"
    }
   ],
   "source": [
    "ev_input_fn = tf.estimator.inputs.numpy_input_fn(\n",
    "    x={\"x\": df_ev[\"x\"]},\n",
    "    y=df_ev['y'],\n",
    "    num_epochs=1,\n",
    "    shuffle=False,\n",
    ")\n",
    "\n",
    "estimator.evaluate(input_fn=ev_input_fn)"
   ]
  },
  {
   "cell_type": "code",
   "execution_count": 9,
   "metadata": {},
   "outputs": [
    {
     "data": {
      "text/plain": [
       "<generator object Estimator.predict at 0x7f631c042360>"
      ]
     },
     "execution_count": 9,
     "metadata": {},
     "output_type": "execute_result"
    }
   ],
   "source": [
    "estimator.predict"
   ]
  },
  {
   "cell_type": "code",
   "execution_count": null,
   "metadata": {
    "collapsed": true
   },
   "outputs": [],
   "source": []
  }
 ],
 "metadata": {
  "kernelspec": {
   "display_name": "Python 3",
   "language": "python",
   "name": "python3"
  },
  "language_info": {
   "codemirror_mode": {
    "name": "ipython",
    "version": 3
   },
   "file_extension": ".py",
   "mimetype": "text/x-python",
   "name": "python",
   "nbconvert_exporter": "python",
   "pygments_lexer": "ipython3",
   "version": "3.6.2"
  }
 },
 "nbformat": 4,
 "nbformat_minor": 2
}
